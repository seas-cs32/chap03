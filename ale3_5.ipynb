{
  "cells": [
    {
      "cell_type": "markdown",
      "id": "60496823",
      "metadata": {
        "id": "60496823"
      },
      "source": [
        "## ALE 3.5: Two different sequences  \n",
        "\n",
        "© 2024 Michael D. Smith. All rights reserved. This material is free to view and download for personal use only. It is not for re-distribution or use outside this class."
      ]
    },
    {
      "cell_type": "markdown",
      "id": "aa068067",
      "metadata": {
        "id": "aa068067"
      },
      "source": [
        "We've discussed two different types of objects that adhere to the Python sequence abstraction: strings and lists. The following code block defines one of each of these objects."
      ]
    },
    {
      "cell_type": "code",
      "execution_count": null,
      "id": "506fb4f9",
      "metadata": {
        "id": "506fb4f9"
      },
      "outputs": [],
      "source": [
        "# Two sequences\n",
        "a_string = 'Cosmo the dog'\n",
        "a_list = ['Cosmo', 'CatInTheHat.txt', True, 10]"
      ]
    },
    {
      "cell_type": "markdown",
      "id": "44819ee6",
      "metadata": {
        "id": "44819ee6"
      },
      "source": [
        "**Step 1.** What does this mean that both of these objects adhere to the same abstraction? Here are a few examples that might help you come up with an answer to this question:"
      ]
    },
    {
      "cell_type": "code",
      "execution_count": null,
      "id": "8a419441",
      "metadata": {
        "id": "8a419441"
      },
      "outputs": [],
      "source": [
        "# What is the length of a sequence?\n",
        "c1 = len(a_string)\n",
        "c2 = len(a_list)\n",
        "print(c1, c2)"
      ]
    },
    {
      "cell_type": "code",
      "execution_count": null,
      "id": "6b45412c",
      "metadata": {
        "id": "6b45412c"
      },
      "outputs": [],
      "source": [
        "# Getting an element in a sequence\n",
        "e1 = a_string[3]\n",
        "e2 = a_list[2]\n",
        "print(e1, e2)"
      ]
    },
    {
      "cell_type": "code",
      "execution_count": null,
      "id": "d3b9c7c2",
      "metadata": {
        "id": "d3b9c7c2"
      },
      "outputs": [],
      "source": [
        "# Slice out a piece of the sequence\n",
        "s1 = a_string[6:9]\n",
        "s2 = a_list[:2]\n",
        "print(s1, s2)"
      ]
    },
    {
      "cell_type": "code",
      "execution_count": null,
      "id": "7a4aca49",
      "metadata": {
        "id": "7a4aca49"
      },
      "outputs": [],
      "source": [
        "# Test if an object is a member of the sequence\n",
        "print('m' in a_string)\n",
        "print(0 in a_list)"
      ]
    },
    {
      "cell_type": "markdown",
      "id": "492235de",
      "metadata": {
        "id": "492235de"
      },
      "source": [
        "**Step 2.** But strings are not lists and lists are not strings. In addition to sharing an abstraction, strings and lists have their own methods. We've used the string-find method, and we can see that it doesn't work on lists."
      ]
    },
    {
      "cell_type": "code",
      "execution_count": null,
      "id": "26a46e17",
      "metadata": {
        "id": "26a46e17"
      },
      "outputs": [],
      "source": [
        "i = a_string.find('m')\n",
        "print(i)"
      ]
    },
    {
      "cell_type": "code",
      "execution_count": null,
      "id": "f173807d",
      "metadata": {
        "id": "f173807d"
      },
      "outputs": [],
      "source": [
        "i = a_list.find(10)\n",
        "print(i)"
      ]
    },
    {
      "cell_type": "markdown",
      "id": "be6bc515",
      "metadata": {
        "id": "be6bc515"
      },
      "source": [
        "What is the equivalent to string-find with a list? Search the online documentation for this answer and try it out on `a_list` (i.e., fix the broken statement containing `a_list.find(10)`).\n",
        "\n",
        "Version 20240111"
      ]
    }
  ],
  "metadata": {
    "colab": {
      "provenance": []
    }
  },
  "nbformat": 4,
  "nbformat_minor": 5
}