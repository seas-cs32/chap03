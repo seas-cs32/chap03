{
  "cells": [
    {
      "cell_type": "markdown",
      "id": "60496823",
      "metadata": {
        "id": "60496823"
      },
      "source": [
        "## ALE 3.8: Scope and the Danger of Globals  \n",
        "\n",
        "© 2024 Michael D. Smith. All rights reserved. This material is free to view and download for personal use only. It is not for re-distribution or use outside this class."
      ]
    },
    {
      "cell_type": "markdown",
      "id": "aa068067",
      "metadata": {
        "id": "aa068067"
      },
      "source": [
        "Computer scientists talk **scope rules** when they explain how the interpreter knows which version of a name (i.e., a variable or function) you mean at some point in your script. Scope is a concept closely related to namespaces, which we’ve been discussing since the first chapter. We've put off a discussion of scope because it gets ... complicated. However, now that you know how to build your own functions, it is time to say a few words about scope.\n",
        "\n",
        "When we started writing our scripts, we wrote statements without enclosing them in a function, as illustrated with this short script from Chapter 1:\n",
        "\n"
      ]
    },
    {
      "cell_type": "code",
      "execution_count": null,
      "id": "506fb4f9",
      "metadata": {
        "id": "506fb4f9"
      },
      "outputs": [],
      "source": [
        "# Open the book so we can read it\n",
        "my_open_book = open('CatInTheHat.txt')\n",
        "# Read the first line using that thing that you computed\n",
        "the_line = my_open_book.readline()\n",
        "print(the_line)"
      ]
    },
    {
      "cell_type": "markdown",
      "id": "44819ee6",
      "metadata": {
        "id": "44819ee6"
      },
      "source": [
        "Since the names `my_open_book` and `the_line` do not reside within a function, they are names in Python's global scope. This was a fine thing to do when our scripts were very short. But as they grew longer, we've learned to chunk our work into sensible pieces and encapsulate those pieces in reusable functions.\n",
        "\n",
        "With functions, we gained a new scope. Names like `i`, `j`, `old`, and `new` in Chapter 3's `my_replace` function are in Python's **local** scope, which is separate from Python's **global** scope."
      ]
    },
    {
      "cell_type": "code",
      "execution_count": null,
      "id": "8a419441",
      "metadata": {
        "id": "8a419441"
      },
      "outputs": [],
      "source": [
        "def my_replace(s, old, new):\n",
        "    \"\"\"Returns a string replacing all occurrences of old with new.\"\"\"\n",
        "    i = 0           # tracks where we are in the input string\n",
        "    j = len(old)    # skip-ahead amount for index calculations\n",
        "    new_s = s[0:0]  # the new string we're building\n",
        "\n",
        "    while i < len(s):\n",
        "        if s[i:i+j] == old:\n",
        "            new_s = new_s + new\n",
        "            i += j\n",
        "        else:\n",
        "            new_s = new_s + s[i:i+1]\n",
        "            i += 1\n",
        "\n",
        "    return new_s"
      ]
    },
    {
      "cell_type": "markdown",
      "id": "492235de",
      "metadata": {
        "id": "492235de"
      },
      "source": [
        "What the difference? A local variable like `j` is available only within the enclosing function. It is not known outside of the body of this function. This is a Good Thing because any names we use within this function won't conflict with any names used within another function. Think about how hard it would be to write your script if you had to know all the names used by the authors of every module you imported!\n",
        "\n",
        "Global variables, on the other hand, are names that are known anywhere in your module (i.e., anywhere in the file that holds your script). This includes inside any functions you define in that module. Global names within a module can be made global to any other module by importing them.\n",
        "\n",
        "The following code block illustrates global and local names using an example without any import-statements."
      ]
    },
    {
      "cell_type": "code",
      "execution_count": null,
      "id": "26a46e17",
      "metadata": {
        "id": "26a46e17"
      },
      "outputs": [],
      "source": [
        "### chap03/scope.py\n",
        "capitalize = True   # a global variable setting a mode for the script\n",
        "\n",
        "def my_print(s):\n",
        "    if capitalize:\n",
        "        s = s.capitalize()\n",
        "    print(s)\n",
        "\n",
        "def my_scramble(s):\n",
        "    new_s = s[1:] + s[0]\n",
        "    return new_s\n",
        "\n",
        "s = 'just some fun'\n",
        "my_print(s)\n",
        "print(my_scramble(s))\n",
        "#print(new_s)  # produces a NameError"
      ]
    },
    {
      "cell_type": "markdown",
      "source": [
        "Notice that `capitalize` is defined outside of any function and is thus available within any of the functions (e.g., in `my_print`, where it tells us whether we should be capitalizing the first letter of the string we're about to print). Namespaces keep this global name from colliding with the method of the same name in the `str` object.\n",
        "\n",
        "The name `s` is both a global and a local name. It is a global name when it is defined on line 13, and a local name inside both `my_print` and `my_scramble`, as formal parameters are local names. These local `s` names hide the global `s` within the two functions. By hide, I mean that you cannot access the global `s` inside these functions; Python assumes you mean the local name. Again, this defined behavior is typically what we want.\n",
        "\n",
        "Finally, the name `new_s` inside `my_scramble` is a local variable. If you try to print the value of this variable by removing the first comment character on the script's last line, you'll get an error. The name is thrown away with the local scope of `my_scramble` as `my_scramble` returns. Go ahead and try it.\n",
        "\n",
        "**The danger.** As you begin writing functions, you'll find that you need to reference a value in the function that you haven't sent to the function as a parameter. What should you do?\n",
        "\n",
        "1.   You could add a new formal parameter and then change all the call sites to provide a value for that formal parameter.\n",
        "2.   Or, you'll think to yourself, \"I could just put the value I need in the global scope and not have to change the function or any of the call sites.\"\n",
        "\n",
        "Resist the urge to do the second thing except in one limited case, which I'll describe in a moment. But first, let's see what happens to our script if we remove the formal parameters—heck, the global variable is already named what the two function bodies reference, right?"
      ],
      "metadata": {
        "id": "U5mJk1Lsmz5r"
      },
      "id": "U5mJk1Lsmz5r"
    },
    {
      "cell_type": "code",
      "source": [
        "### chap03/scope_broken.py\n",
        "capitalize = True   # a global variable setting a mode for the script\n",
        "\n",
        "def my_print():\n",
        "    if capitalize:\n",
        "        s = s.capitalize()\n",
        "    print(s)\n",
        "\n",
        "def my_scramble():\n",
        "    new_s = s[1:] + s[0]\n",
        "    return new_s\n",
        "\n",
        "s = 'just some fun'\n",
        "my_print()\n",
        "print(my_scramble())"
      ],
      "metadata": {
        "id": "Rgzd0837nu6W"
      },
      "id": "Rgzd0837nu6W",
      "execution_count": null,
      "outputs": []
    },
    {
      "cell_type": "markdown",
      "source": [
        "The script dies with an `UnboundLocalError` on line 6, where we tried to update the global variable within the function `my_print`. Python gives you a way to fix this with a global-statement, but you're just heading down dark and bumpy road with more problems to come. For example, did you really want to update the global variable or just a local copy of it?\n",
        "\n",
        "The **only** time in this class that you'll be encouraged to use a global variable is in situations like we saw with `capitalize`. Think about how we're using this name: We set it once at the start of the script and then only ever reference its value. We never try to change it. Global variables are great things to read, and a real pain to update. You'll feel this pain if you ever have to debug a global variable that you read and write all over your (probably long) script.\n",
        "\n",
        "If you want to know more about scope and the scope rules in Python, we recommend [this Real Python tutorial](https://realpython.com/python-scope-legb-rule/)."
      ],
      "metadata": {
        "id": "jjeaIbdony-O"
      },
      "id": "jjeaIbdony-O"
    },
    {
      "cell_type": "markdown",
      "id": "be6bc515",
      "metadata": {
        "id": "be6bc515"
      },
      "source": [
        "Version 20240111"
      ]
    }
  ],
  "metadata": {
    "colab": {
      "provenance": []
    },
    "language_info": {
      "name": "python"
    },
    "kernelspec": {
      "name": "python3",
      "display_name": "Python 3"
    }
  },
  "nbformat": 4,
  "nbformat_minor": 5
}